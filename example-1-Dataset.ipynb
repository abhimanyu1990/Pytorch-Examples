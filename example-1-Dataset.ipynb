{
 "cells": [
  {
   "cell_type": "markdown",
   "metadata": {},
   "source": [
    "In this example we will understand and create custom pytorch Dataset. Dataset is one of the important tool \n",
    "provided by PyTorch which is quite useful in processing and loading data"
   ]
  },
  {
   "cell_type": "code",
   "execution_count": 1,
   "metadata": {},
   "outputs": [],
   "source": [
    "from torch.utils.data import Dataset\n",
    "import torch"
   ]
  },
  {
   "cell_type": "code",
   "execution_count": 2,
   "metadata": {},
   "outputs": [],
   "source": [
    "\n",
    "class custom_set(Dataset):\n",
    "    def __init__ (self, length=5, transform=None):\n",
    "        self.x=3*torch.ones(length,2)\n",
    "        self.y=torch.ones(length,1)\n",
    "        self.len = length\n",
    "        self.transform = transform\n",
    "    \n",
    "    def __getitem__ (self, index):\n",
    "        val = self.x[index],self.y[index]\n",
    "        if self.transform:\n",
    "          val = self.transform(val)\n",
    "        return val\n",
    "    \n",
    "    def __len__(self):\n",
    "        return self.len\n",
    "    "
   ]
  },
  {
   "cell_type": "raw",
   "metadata": {},
   "source": [
    "Above we are creating a subclass custom_set of DataSet. Dataset is abstract class from torch.\n",
    "\n",
    "understanding torch.ones(5,2)\n",
    "    1. It returns the tensor filled with scalar value 1.\n",
    "    2. Here, we are dfining two dimensional tensor of length 5.\n",
    "    3. self.x = 3*torch.ones(length,2) \n",
    "        x value will be represeted as \n",
    "        self.x = [3,3],[3,3],[3,3],[3,3],[3,3]\n",
    "         index =  0   , 1   , 2   , 3   , 4"
   ]
  },
  {
   "cell_type": "code",
   "execution_count": 3,
   "metadata": {},
   "outputs": [],
   "source": [
    "# creating object of class custom_set\n",
    "dataset = custom_set()"
   ]
  },
  {
   "cell_type": "code",
   "execution_count": 4,
   "metadata": {},
   "outputs": [
    {
     "data": {
      "text/plain": [
       "(tensor([3., 3.]), tensor([1.]))"
      ]
     },
     "execution_count": 4,
     "metadata": {},
     "output_type": "execute_result"
    }
   ],
   "source": [
    "# Accessing value at index 1\n",
    "dataset[1]\n"
   ]
  },
  {
   "cell_type": "markdown",
   "metadata": {},
   "source": [
    "It calls the function dataset.__getitem__(1). In __getitem__ function we have used transform = None. This means we are not applying any data transformation. Transformation is used for normalization and standardization of data which is not in this scope "
   ]
  },
  {
   "cell_type": "code",
   "execution_count": 5,
   "metadata": {},
   "outputs": [
    {
     "data": {
      "text/plain": [
       "5"
      ]
     },
     "execution_count": 5,
     "metadata": {},
     "output_type": "execute_result"
    }
   ],
   "source": [
    "# to find the length of dataset \n",
    "dataset.len"
   ]
  },
  {
   "cell_type": "code",
   "execution_count": 6,
   "metadata": {},
   "outputs": [
    {
     "data": {
      "text/plain": [
       "(tensor([3., 3.]), tensor([1.]))"
      ]
     },
     "execution_count": 6,
     "metadata": {},
     "output_type": "execute_result"
    }
   ],
   "source": [
    "dataset.__getitem__(1)"
   ]
  },
  {
   "cell_type": "markdown",
   "metadata": {},
   "source": [
    "The above code \"dataset.len\" calls the function dataset.__len__(), defined it the class custom_set"
   ]
  },
  {
   "cell_type": "code",
   "execution_count": 7,
   "metadata": {},
   "outputs": [
    {
     "data": {
      "text/plain": [
       "5"
      ]
     },
     "execution_count": 7,
     "metadata": {},
     "output_type": "execute_result"
    }
   ],
   "source": [
    "dataset.__len__()"
   ]
  }
 ],
 "metadata": {
  "kernelspec": {
   "display_name": "Python 3",
   "language": "python",
   "name": "python3"
  },
  "language_info": {
   "codemirror_mode": {
    "name": "ipython",
    "version": 3
   },
   "file_extension": ".py",
   "mimetype": "text/x-python",
   "name": "python",
   "nbconvert_exporter": "python",
   "pygments_lexer": "ipython3",
   "version": "3.5.2"
  }
 },
 "nbformat": 4,
 "nbformat_minor": 4
}
