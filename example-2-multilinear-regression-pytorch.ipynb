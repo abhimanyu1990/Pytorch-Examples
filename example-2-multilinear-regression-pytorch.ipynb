{
 "cells": [
  {
   "cell_type": "markdown",
   "metadata": {},
   "source": [
    "In this example we will learn implementing linear regression using PyTorch. In this example I have used beer consumption CSV available on [Kaggle](https://www.kaggle.com/dongeorge/beer-consumption-sao-paulo). "
   ]
  },
  {
   "cell_type": "markdown",
   "metadata": {},
   "source": [
    "**1. Imports**\n",
    "Please import the necessarty libraries required for the programm.\n",
    "1. Numpy : Numpy library in python provides support large multi-dimensional arrays and matrices. It also provides high-level mathematical function to operate on these arrays.\n",
    "2. Pandas : Pandas library provides support for data analysis and manipulation tool. \n",
    "3. torch : PyTorch is the machine learning library.\n",
    "4. Matplotlib : We have used Matplotlib library for showing line graphs and visual comparision."
   ]
  },
  {
   "cell_type": "code",
   "execution_count": 1,
   "metadata": {},
   "outputs": [],
   "source": [
    "import numpy as np\n",
    "import pandas as pd\n",
    "import torch\n",
    "import matplotlib.pyplot as plt"
   ]
  },
  {
   "cell_type": "markdown",
   "metadata": {},
   "source": [
    "**2. Data processing**\n",
    "We have used Pandas for data analysis and data manipulation. \n",
    " 1. Reading the data from the CSV file\n",
    " 2. Dropping the columns like Date\n",
    " 3. Removing the rows based on the column value\n",
    " 4. Creating new dataframes like target and input"
   ]
  },
  {
   "cell_type": "code",
   "execution_count": 2,
   "metadata": {},
   "outputs": [
    {
     "name": "stdout",
     "output_type": "stream",
     "text": [
      "         Date  T_Media  T_Minima  T_Maxima  Precipitation  Weekend  \\\n",
      "0  2015-01-01    27.30      23.9      32.5            0.0        0   \n",
      "1  2015-01-02    27.02      24.5      33.5            0.0        0   \n",
      "2  2015-01-03    24.82      22.4      29.9            0.0        1   \n",
      "3  2015-01-04    23.98      21.5      28.6            1.2        1   \n",
      "4  2015-01-05    23.82      21.0      28.3            0.0        0   \n",
      "\n",
      "   Consumption  \n",
      "0       25.461  \n",
      "1       28.972  \n",
      "2       30.814  \n",
      "3       29.799  \n",
      "4       28.900  \n"
     ]
    }
   ],
   "source": [
    "beer_consumption_data = pd.read_csv(\"./data/consumption.csv\")\n",
    "print(beer_consumption_data[0:5])"
   ]
  },
  {
   "cell_type": "code",
   "execution_count": 3,
   "metadata": {},
   "outputs": [],
   "source": [
    "data = beer_consumption_data.drop(['Date'], axis=1)"
   ]
  },
  {
   "cell_type": "code",
   "execution_count": 4,
   "metadata": {},
   "outputs": [],
   "source": [
    "data = data[data.Weekend != 1]"
   ]
  },
  {
   "cell_type": "code",
   "execution_count": 5,
   "metadata": {},
   "outputs": [
    {
     "name": "stdout",
     "output_type": "stream",
     "text": [
      "   T_Media  T_Minima  T_Maxima  Precipitation  Weekend  Consumption\n",
      "0    27.30      23.9      32.5            0.0        0       25.461\n",
      "1    27.02      24.5      33.5            0.0        0       28.972\n",
      "4    23.82      21.0      28.3            0.0        0       28.900\n",
      "5    23.78      20.1      30.5           12.2        0       28.218\n",
      "6    24.00      19.5      33.7            0.0        0       29.732\n"
     ]
    }
   ],
   "source": [
    "print(data[0:5])"
   ]
  },
  {
   "cell_type": "code",
   "execution_count": 6,
   "metadata": {},
   "outputs": [],
   "source": [
    "target = data[\"Consumption\"]"
   ]
  },
  {
   "cell_type": "code",
   "execution_count": 7,
   "metadata": {},
   "outputs": [],
   "source": [
    "input_data = data.drop(['Consumption','Weekend'], axis=1)"
   ]
  },
  {
   "cell_type": "code",
   "execution_count": 8,
   "metadata": {},
   "outputs": [
    {
     "name": "stdout",
     "output_type": "stream",
     "text": [
      "   T_Media  T_Minima  T_Maxima  Precipitation\n",
      "0    27.30      23.9      32.5            0.0\n",
      "1    27.02      24.5      33.5            0.0\n",
      "4    23.82      21.0      28.3            0.0\n",
      "5    23.78      20.1      30.5           12.2\n",
      "6    24.00      19.5      33.7            0.0\n"
     ]
    }
   ],
   "source": [
    "print(input_data[0:5])"
   ]
  },
  {
   "cell_type": "code",
   "execution_count": 9,
   "metadata": {},
   "outputs": [
    {
     "name": "stdout",
     "output_type": "stream",
     "text": [
      "0    25.461\n",
      "1    28.972\n",
      "4    28.900\n",
      "5    28.218\n",
      "6    29.732\n",
      "Name: Consumption, dtype: float64\n"
     ]
    }
   ],
   "source": [
    "print(target[0:5])"
   ]
  },
  {
   "cell_type": "markdown",
   "metadata": {},
   "source": [
    "**3. Tensors**\n",
    "In the above data processing steps, we have created inputs data which is of size 261x4 and target data which is of 261x1 dimension. Now we will be converting these data into tensors for the further processing. Pytorch tensors are the basic data structures which we use for programming neural network.\n",
    "\n",
    "`torch.tensor()` is multi-dimensional matrix which contain elements of a single data type.\n"
   ]
  },
  {
   "cell_type": "code",
   "execution_count": 10,
   "metadata": {},
   "outputs": [],
   "source": [
    "input_tensor = torch.tensor(input_data.values)"
   ]
  },
  {
   "cell_type": "code",
   "execution_count": 11,
   "metadata": {
    "scrolled": false
   },
   "outputs": [
    {
     "name": "stdout",
     "output_type": "stream",
     "text": [
      "tensor([[27.3000, 23.9000, 32.5000,  0.0000],\n",
      "        [27.0200, 24.5000, 33.5000,  0.0000],\n",
      "        [23.8200, 21.0000, 28.3000,  0.0000],\n",
      "        ...,\n",
      "        [21.6800, 20.3000, 24.1000, 10.3000],\n",
      "        [21.3800, 19.3000, 22.4000,  6.3000],\n",
      "        [24.7600, 20.2000, 29.0000,  0.0000]], dtype=torch.float64)\n"
     ]
    }
   ],
   "source": [
    "print(input_tensor)"
   ]
  },
  {
   "cell_type": "code",
   "execution_count": 12,
   "metadata": {},
   "outputs": [],
   "source": [
    "target_tensor = torch.tensor(target.values)"
   ]
  },
  {
   "cell_type": "markdown",
   "metadata": {},
   "source": [
    "**4. Model and Paramters**\n",
    "The linear equation we are using `y = b+wx`\n",
    "        Here, b is bias, it is a scalar value\n",
    "              w is the weight and x is the input paramater\n",
    "              x is ( n x m ) matrix and w is (m x1 ) matrix\n",
    "We will define the model Parameters w and b\n",
    "\n",
    "1. We will generating w and b random number using `torch.randn()`\n",
    "2. Below w and b datatype is double which is defined by `dtype=torch.double`\n",
    "3. `requires_grad=True` , this flag specify autograd to record operations performed on the tensor. We can call grad on a parameter `<parameter name>.grad`to find out the value of gradient.\n",
    "4. `torch.t()` is method to obtain transpose of a matrix"
   ]
  },
  {
   "cell_type": "code",
   "execution_count": 13,
   "metadata": {},
   "outputs": [
    {
     "name": "stdout",
     "output_type": "stream",
     "text": [
      "tensor([-0.1309,  1.3474, -0.3075,  0.0467], dtype=torch.float64,\n",
      "       requires_grad=True)\n",
      "tensor([0.6102], dtype=torch.float64, requires_grad=True)\n"
     ]
    }
   ],
   "source": [
    "w = torch.randn(4,dtype=torch.double,requires_grad=True)\n",
    "b = torch.randn(1, dtype=torch.double,requires_grad=True)\n",
    "print(w)\n",
    "print(b)"
   ]
  },
  {
   "cell_type": "code",
   "execution_count": 14,
   "metadata": {},
   "outputs": [],
   "source": [
    "def model(x):\n",
    "    return x @ w.t() + b"
   ]
  },
  {
   "cell_type": "markdown",
   "metadata": {},
   "source": [
    "**5. Predicting values**\n",
    "preds is the value predicted by our model based on random parameters weight and bias we have generated"
   ]
  },
  {
   "cell_type": "code",
   "execution_count": 15,
   "metadata": {},
   "outputs": [
    {
     "name": "stdout",
     "output_type": "stream",
     "text": [
      "tensor([19.2473, 19.7849, 17.0867, 15.7730, 13.3818], dtype=torch.float64,\n",
      "       grad_fn=<SliceBackward>)\n"
     ]
    }
   ],
   "source": [
    "preds = model(input_tensor)\n",
    "print(preds[0:5])"
   ]
  },
  {
   "cell_type": "markdown",
   "metadata": {},
   "source": [
    "**6. Loss function**\n",
    "We have used mean square error (mse) for the loss functions\n",
    "1. mse is obtained by adding the square of the difference between predicted value and actual value of each input\n",
    "2. Squaring the difference of predicted value and actual value ensure that larger the difference then error will be large and smaller the difference then error will small\n",
    "3. mse is either 0 or positive value\n",
    "4. smaller the mse better the prediction"
   ]
  },
  {
   "cell_type": "code",
   "execution_count": 16,
   "metadata": {},
   "outputs": [],
   "source": [
    "\n",
    "def mse(t1, t2):\n",
    "    diff = t1 - t2\n",
    "    return torch.sum(diff * diff) / diff.numel()"
   ]
  },
  {
   "cell_type": "code",
   "execution_count": 17,
   "metadata": {},
   "outputs": [
    {
     "name": "stdout",
     "output_type": "stream",
     "text": [
      "tensor(129.5026, dtype=torch.float64, grad_fn=<DivBackward0>)\n"
     ]
    }
   ],
   "source": [
    "loss = mse(preds, target_tensor)\n",
    "print(loss)"
   ]
  },
  {
   "cell_type": "markdown",
   "metadata": {},
   "source": [
    "**7. backward function()**\n",
    "We are using gradient descent method to train our model. In gradient descent, we minimise the loss. To minimise the loss we have to perform differential method w.r.t to paramaters on the loss function.\n",
    "Here, backward() functions do all the mathematical work for you using the last output of weight and bias parameters\n"
   ]
  },
  {
   "cell_type": "code",
   "execution_count": 18,
   "metadata": {},
   "outputs": [],
   "source": [
    "loss.backward()"
   ]
  },
  {
   "cell_type": "code",
   "execution_count": 19,
   "metadata": {
    "scrolled": false
   },
   "outputs": [
    {
     "name": "stdout",
     "output_type": "stream",
     "text": [
      "tensor([-0.1309,  1.3474, -0.3075,  0.0467], dtype=torch.float64,\n",
      "       requires_grad=True)\n",
      "tensor([-453.9982, -364.5047, -578.9233,  -67.3671], dtype=torch.float64)\n"
     ]
    }
   ],
   "source": [
    "print(w)\n",
    "print(w.grad)"
   ]
  },
  {
   "cell_type": "code",
   "execution_count": 20,
   "metadata": {},
   "outputs": [
    {
     "name": "stdout",
     "output_type": "stream",
     "text": [
      "tensor([0.6102], dtype=torch.float64, requires_grad=True)\n",
      "tensor([-20.9653], dtype=torch.float64)\n"
     ]
    }
   ],
   "source": [
    "print(b)\n",
    "print(b.grad)"
   ]
  },
  {
   "cell_type": "markdown",
   "metadata": {},
   "source": [
    "**8. Learning Rate**\n",
    "It is important hyperparameter for linear regression. It is the amount by which weigth are updated during the training process\n",
    "1. It defines the direction of gradient descent. \n",
    "2. We need to carefully define the learning rate\n",
    "    2.1 Using large value of learning rate require less training epochs amd cause model to converge quickly to a suboptimal solution. We may miss the actual minima for the model equation.\n",
    "    2.2 Using very small value of learning rate may lead more calculation. As it will require more training epochs for converging the model\n",
    "3. We are making the gradient from the previous calculation zero to avoid a mix. As with `requires_grad=True` is ensuring gradient accumulation for parameters `w` and `b`\n",
    "4. In this example, we have use learning rate  value 0.00001\n"
   ]
  },
  {
   "cell_type": "code",
   "execution_count": 21,
   "metadata": {},
   "outputs": [],
   "source": [
    "with torch.no_grad():\n",
    "    w -= w.grad * 1e-5\n",
    "    b -= b.grad * 1e-5\n",
    "    w.grad.zero_()\n",
    "    b.grad.zero_()"
   ]
  },
  {
   "cell_type": "code",
   "execution_count": 22,
   "metadata": {},
   "outputs": [
    {
     "name": "stdout",
     "output_type": "stream",
     "text": [
      "tensor([-0.1263,  1.3510, -0.3017,  0.0474], dtype=torch.float64,\n",
      "       requires_grad=True)\n"
     ]
    }
   ],
   "source": [
    "print(w)"
   ]
  },
  {
   "cell_type": "markdown",
   "metadata": {},
   "source": [
    "**9. Predicting beer consumption**\n",
    "\n",
    "Here we are predicting value for beer consumption and we are using matplotlib to visualize and compare between predicted value and actual value."
   ]
  },
  {
   "cell_type": "code",
   "execution_count": 23,
   "metadata": {},
   "outputs": [
    {
     "name": "stdout",
     "output_type": "stream",
     "text": [
      "tensor(122.8157, dtype=torch.float64, grad_fn=<DivBackward0>)\n"
     ]
    }
   ],
   "source": [
    "preds = model(input_tensor)\n",
    "loss = mse(preds, target_tensor)\n",
    "print(loss)"
   ]
  },
  {
   "cell_type": "code",
   "execution_count": 24,
   "metadata": {},
   "outputs": [
    {
     "data": {
      "image/png": "[encoded data removed]",
      "text/plain": [
       "<Figure size 432x288 with 1 Axes>"
      ]
     },
     "metadata": {
      "needs_background": "light"
     },
     "output_type": "display_data"
    }
   ],
   "source": [
    "pred_line = preds.detach().numpy()\n",
    "target_line =  target_tensor.detach().numpy()\n",
    "plt.plot(pred_line,  label = \"predicted values\")\n",
    "plt.plot(target_line,  label = \"Actual value\")\n",
    "plt.xlabel('x - axis')\n",
    "plt.ylabel('y - axis')\n",
    "# Add the title to the graph\n",
    "plt.title('Predicted Values Vs Actual Values ')\n",
    "# use to show the legend on the plot\n",
    "plt.legend()\n",
    "# Display the graph.\n",
    "plt.show()"
   ]
  },
  {
   "cell_type": "markdown",
   "metadata": {},
   "source": [
    "**10. Training Epochs**\n",
    "\n",
    "As we can see, that the loss is very high. We need to keep updating the paramaters weight and bias until we converge the model to reach the optimal solution. Training epochs defines that total number of times the learning algorithm wiil work through the entire dataset. One epoch tells that each sample in the training dataset has had an opportunity to update the internal model parameters. \n",
    "\n"
   ]
  },
  {
   "cell_type": "code",
   "execution_count": 25,
   "metadata": {},
   "outputs": [],
   "source": [
    "for i in range(150):\n",
    "    preds = model(input_tensor)\n",
    "    loss = mse(preds, target_tensor)\n",
    "    loss.backward()\n",
    "    with torch.no_grad():\n",
    "        w -= w.grad * 1e-4\n",
    "        b -= b.grad * 1e-4\n",
    "        w.grad.zero_()\n",
    "        b.grad.zero_()"
   ]
  },
  {
   "cell_type": "code",
   "execution_count": 26,
   "metadata": {
    "scrolled": true
   },
   "outputs": [
    {
     "name": "stdout",
     "output_type": "stream",
     "text": [
      "tensor([32.9771, 33.7778, 29.0505, 26.7520, 26.9954, 22.7478, 29.8927, 29.5708,\n",
      "        29.2295, 29.3040], dtype=torch.float64, grad_fn=<SliceBackward>)\n",
      "tensor(13.2238, dtype=torch.float64, grad_fn=<DivBackward0>)\n"
     ]
    }
   ],
   "source": [
    "print(preds[0:10])\n",
    "print(loss)"
   ]
  },
  {
   "cell_type": "markdown",
   "metadata": {},
   "source": [
    "**11. Comparision after training epochs**\n",
    "\n",
    "In the below graph, we can see that actual values and predicted values are quite close. "
   ]
  },
  {
   "cell_type": "code",
   "execution_count": 27,
   "metadata": {},
   "outputs": [
    {
     "data": {
      "image/png": "[encoded data removed]",
      "text/plain": [
       "<Figure size 432x288 with 1 Axes>"
      ]
     },
     "metadata": {
      "needs_background": "light"
     },
     "output_type": "display_data"
    }
   ],
   "source": [
    "pred_line = preds.detach().numpy()\n",
    "target_line =  target_tensor.detach().numpy()\n",
    "plt.plot(pred_line,  label = \"Predicted Values\")\n",
    "plt.plot(target_line,  label = \"Actual Values\")\n",
    "plt.xlabel('x - axis')\n",
    "plt.ylabel('y - axis')\n",
    "# Add the title to the graph\n",
    "plt.title('Predicted Values Vs Actual Values ')\n",
    "# use to show the legend on the plot\n",
    "plt.legend()\n",
    "# Display the graph.\n",
    "plt.show()"
   ]
  },
  {
   "cell_type": "markdown",
   "metadata": {},
   "source": [
    "**Conclusion**\n",
    "In this blog, we have learned multilinear regression basics using PyTorch like Tensors, Learning Rate, MSE. After reading this, I hope you can create both linear and multilinear regression model. You can also find this example of [github](https://github.com/abhimanyu1990/Pytorch-Examples).\n",
    "\n",
    "***Thank You***"
   ]
  },
  {
   "cell_type": "code",
   "execution_count": null,
   "metadata": {},
   "outputs": [],
   "source": []
  }
 ],
 "metadata": {
  "kernelspec": {
   "display_name": "Python 3",
   "language": "python",
   "name": "python3"
  },
  "language_info": {
   "codemirror_mode": {
    "name": "ipython",
    "version": 3
   },
   "file_extension": ".py",
   "mimetype": "text/x-python",
   "name": "python",
   "nbconvert_exporter": "python",
   "pygments_lexer": "ipython3",
   "version": "3.5.2"
  }
 },
 "nbformat": 4,
 "nbformat_minor": 4
}
