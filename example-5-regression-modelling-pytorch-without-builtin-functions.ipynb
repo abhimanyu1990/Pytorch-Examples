{
 "cells": [
  {
   "cell_type": "code",
   "execution_count": 1,
   "metadata": {},
   "outputs": [],
   "source": [
    "import numpy as np\n",
    "import pandas as pd\n",
    "import torch.nn as nn\n",
    "import torch.tensor  as tensor\n",
    "from torch.utils.data import TensorDataset, DataLoader\n",
    "import torch.optim as optim\n",
    "import torch\n",
    "import matplotlib.pyplot as plt"
   ]
  },
  {
   "cell_type": "code",
   "execution_count": 2,
   "metadata": {},
   "outputs": [],
   "source": [
    "# Read data from the csv file at given location\n",
    "data = pd.read_csv(\"./data/consumption.csv\")\n",
    "\n",
    "# Removing rows which corresponds to weekend. We are not predicting for weekend.\n",
    "data = data[data.Weekend != 1]\n",
    "\n",
    "# Droping column Date and Weekend\n",
    "data = data.drop([\"Date\",\"Weekend\"],axis=1)\n",
    "\n",
    "# Consumption (Dependent Variable) is the column corresponds to the actual consumption of beer for a particular input.\n",
    "# Separating the target dataset or actual values \n",
    "target = data[\"Consumption\"]\n",
    "\n",
    "# Independent Variables are the input for the linear regression model based on which it predicts the dependent variable.\n",
    "# We are separating Independent variable here.\n",
    "input_data = data.drop([\"Consumption\"],axis=1)"
   ]
  },
  {
   "cell_type": "code",
   "execution_count": 3,
   "metadata": {},
   "outputs": [],
   "source": [
    "# Converting Dependent and Independent variable into tensor for further processing \n",
    "tensor_input = tensor(input_data.values,dtype=torch.double)\n",
    "tensor_target = tensor(target.values,dtype=torch.double)\n",
    "\n",
    "# Converting tensor_target for [n] size to [ n x 1]\n",
    "px = pd.DataFrame(tensor_target)\n",
    "tensor_target = torch.tensor(px.values,dtype=torch.double)"
   ]
  },
  {
   "cell_type": "code",
   "execution_count": 4,
   "metadata": {},
   "outputs": [
    {
     "name": "stdout",
     "output_type": "stream",
     "text": [
      "tensor([[25.4610],\n",
      "        [28.9720],\n",
      "        [28.9000],\n",
      "        [28.2180],\n",
      "        [29.7320]], dtype=torch.float64)\n"
     ]
    }
   ],
   "source": [
    "print(tensor_target[0:5])\n"
   ]
  },
  {
   "cell_type": "code",
   "execution_count": 5,
   "metadata": {
    "scrolled": true
   },
   "outputs": [
    {
     "name": "stdout",
     "output_type": "stream",
     "text": [
      "tensor([[27.3000, 23.9000, 32.5000,  0.0000],\n",
      "        [27.0200, 24.5000, 33.5000,  0.0000],\n",
      "        [23.8200, 21.0000, 28.3000,  0.0000],\n",
      "        [23.7800, 20.1000, 30.5000, 12.2000],\n",
      "        [24.0000, 19.5000, 33.7000,  0.0000]], dtype=torch.float64)\n"
     ]
    }
   ],
   "source": [
    "print(tensor_input[0:5])"
   ]
  },
  {
   "cell_type": "markdown",
   "metadata": {},
   "source": [
    "**Custom Regression Model**\n",
    "\n",
    "We can create custom regression model by creating subclass of nn.Module\n",
    "1. nn.Module is base class for all neural network modules\n",
    "2. PyTorch classes written in Python are executed by the forward() method of the class\n",
    "\n",
    "Below, I have created model with name linear_regression\n",
    "\n"
   ]
  },
  {
   "cell_type": "code",
   "execution_count": 6,
   "metadata": {},
   "outputs": [],
   "source": [
    "class linear_regression(nn.Module):\n",
    "    \n",
    "    #Constructor which accepts the input dataset size  and output dataset size\n",
    "    def __init__(self, input_size, output_size):\n",
    "        super(linear_regression, self).__init__()\n",
    "        self.linear = nn.Linear(input_size, output_size)\n",
    "\n",
    "    #PyTorch classes written in Python are executed by the forward() method of the class\n",
    "    def forward(self, x):\n",
    "        predicted_y = self.linear(x)\n",
    "        return predicted_y"
   ]
  },
  {
   "cell_type": "markdown",
   "metadata": {},
   "source": [
    "**Creating Object of the Model**\n",
    "1. We have dependent variable Dataset of size (n x 4) and dependent varaible dataset of size (n x 1)\n",
    "2. We can create object model by passing input_size=4 and output_size=1 in the model constructor\n",
    "3. We can find the weight and bias value of the model by using the method `model.paramaeters()`\n",
    "4. A state_dict is a Python dictionary object that maps each layer to its parameter tensor"
   ]
  },
  {
   "cell_type": "code",
   "execution_count": 7,
   "metadata": {},
   "outputs": [
    {
     "name": "stdout",
     "output_type": "stream",
     "text": [
      "The parameters:  [Parameter containing:\n",
      "tensor([[ 0.1191,  0.4489,  0.0660, -0.0134]], requires_grad=True), Parameter containing:\n",
      "tensor([0.3925], requires_grad=True)]\n"
     ]
    }
   ],
   "source": [
    "model = linear_regression(4, 1)\n",
    "print(\"The parameters: \", list(model.parameters()))"
   ]
  },
  {
   "cell_type": "code",
   "execution_count": 8,
   "metadata": {},
   "outputs": [
    {
     "name": "stdout",
     "output_type": "stream",
     "text": [
      "The parameters:  OrderedDict([('linear.weight', tensor([[ 0.1191,  0.4489,  0.0660, -0.0134]])), ('linear.bias', tensor([0.3925]))])\n"
     ]
    }
   ],
   "source": [
    "print(\"The parameters: \", model.state_dict())"
   ]
  },
  {
   "cell_type": "markdown",
   "metadata": {},
   "source": [
    "**Optimizer**\n",
    "\n",
    "In `torch.optim` package various optimizer algorithm has been defined. While constructing an Optimizer one have to give it an iterable containing the parameters to optimize. Then, One can specify optimizer-specific options such as the learning rate etc. \n",
    "Here, I have used Schotastic Gradient Descent algorithm. In this, we keep minimising the cost for each sample rather than cost average."
   ]
  },
  {
   "cell_type": "code",
   "execution_count": 9,
   "metadata": {},
   "outputs": [],
   "source": [
    "opt = optim.SGD(model.parameters(), lr=1e-6)"
   ]
  },
  {
   "cell_type": "markdown",
   "metadata": {},
   "source": [
    "**Cost Function or Loss Function**\n",
    "\n",
    "We have used mean squared error function for the cost evaluation."
   ]
  },
  {
   "cell_type": "code",
   "execution_count": 10,
   "metadata": {},
   "outputs": [],
   "source": [
    "loss_fn = nn.functional.mse_loss"
   ]
  },
  {
   "cell_type": "markdown",
   "metadata": {},
   "source": [
    "**Training Model**\n",
    "\n",
    "Below is training data fubction which accepts\n",
    "1. Number of epochs\n",
    "2. Object of the Linear Regression Model\n",
    "3. Loss function \n",
    "4. Optimizer object to optimize parameters using Schotastic Gradient Descent"
   ]
  },
  {
   "cell_type": "code",
   "execution_count": 11,
   "metadata": {},
   "outputs": [],
   "source": [
    "def training_function(num_epochs, model, loss_fn, opt):\n",
    "    for epoch in range(num_epochs):\n",
    "            # Generate predictions\n",
    "            pred = model(tensor_input.float())\n",
    "            loss = loss_fn(pred, tensor_target.float())\n",
    "            # Perform gradient descent\n",
    "            loss.backward()\n",
    "            # Optimizer to update the parameter\n",
    "            opt.step()\n",
    "            # zero_grad() will be used for making gradient from the previous calculation zero \n",
    "            opt.zero_grad()\n",
    "    print('Training loss: ', loss_fn(model(tensor_input.float()), tensor_target.float()))"
   ]
  },
  {
   "cell_type": "markdown",
   "metadata": {},
   "source": [
    "**Calling the training function**"
   ]
  },
  {
   "cell_type": "code",
   "execution_count": 12,
   "metadata": {
    "scrolled": true
   },
   "outputs": [
    {
     "name": "stdout",
     "output_type": "stream",
     "text": [
      "Training loss:  tensor(8.7400, grad_fn=<MseLossBackward>)\n"
     ]
    }
   ],
   "source": [
    "training_function(1000, model, loss_fn, opt)"
   ]
  },
  {
   "cell_type": "markdown",
   "metadata": {},
   "source": [
    "**Prediction**"
   ]
  },
  {
   "cell_type": "code",
   "execution_count": 13,
   "metadata": {},
   "outputs": [
    {
     "data": {
      "text/plain": [
       "tensor([[30.1233],\n",
       "        [30.6541],\n",
       "        [26.4032],\n",
       "        [26.4976],\n",
       "        [27.0201]], grad_fn=<SliceBackward>)"
      ]
     },
     "execution_count": 13,
     "metadata": {},
     "output_type": "execute_result"
    }
   ],
   "source": [
    "preds = model(tensor_input.float())\n",
    "preds[0:5]"
   ]
  },
  {
   "cell_type": "code",
   "execution_count": 14,
   "metadata": {},
   "outputs": [
    {
     "data": {
      "text/plain": [
       "tensor([[25.4610],\n",
       "        [28.9720],\n",
       "        [28.9000],\n",
       "        [28.2180],\n",
       "        [29.7320]], dtype=torch.float64)"
      ]
     },
     "execution_count": 14,
     "metadata": {},
     "output_type": "execute_result"
    }
   ],
   "source": [
    "tensor_target[0:5]"
   ]
  },
  {
   "cell_type": "markdown",
   "metadata": {},
   "source": [
    "**Predicted Value Vs Actual Value**\n",
    "\n",
    "Below is the graph showing the predicted values vs actual value."
   ]
  },
  {
   "cell_type": "code",
   "execution_count": 15,
   "metadata": {},
   "outputs": [
    {
     "data": {
      "image/png": "[encoded data removed]",
      "text/plain": [
       "<Figure size 432x288 with 1 Axes>"
      ]
     },
     "metadata": {
      "needs_background": "light"
     },
     "output_type": "display_data"
    }
   ],
   "source": [
    "pred_line = preds.detach().numpy()\n",
    "target_line =  tensor_target.detach().numpy()\n",
    "plt.plot(pred_line,  label = \"predicted values\")\n",
    "plt.plot(target_line,  label = \"actual values\")\n",
    "plt.xlabel('x - axis')\n",
    "# Set the y axis label of the current axis.\n",
    "plt.ylabel('y - axis')\n",
    "# Set a title of the current axes.\n",
    "plt.title('Predicted values Vs Actual values ')\n",
    "# show a legend on the plot\n",
    "plt.legend()\n",
    "# Display a figure.\n",
    "plt.show()"
   ]
  },
  {
   "cell_type": "markdown",
   "metadata": {},
   "source": [
    "**Conclusion**\n",
    "\n",
    "We need to create custom liner regression model a lot in Pytorch. This example will help you in understanding the basics.\n",
    "\n",
    "***Thank You***"
   ]
  },
  {
   "cell_type": "code",
   "execution_count": null,
   "metadata": {},
   "outputs": [],
   "source": []
  }
 ],
 "metadata": {
  "kernelspec": {
   "display_name": "Python 3",
   "language": "python",
   "name": "python3"
  },
  "language_info": {
   "codemirror_mode": {
    "name": "ipython",
    "version": 3
   },
   "file_extension": ".py",
   "mimetype": "text/x-python",
   "name": "python",
   "nbconvert_exporter": "python",
   "pygments_lexer": "ipython3",
   "version": "3.5.2"
  }
 },
 "nbformat": 4,
 "nbformat_minor": 4
}
